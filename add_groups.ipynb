{
 "cells": [
  {
   "cell_type": "code",
   "execution_count": 10,
   "id": "f833b118-ebe4-49e9-85ef-bfeaa67dd3eb",
   "metadata": {},
   "outputs": [],
   "source": [
    "import random\n",
    "\n",
    "import geopandas as gpd\n",
    "import numpy as np"
   ]
  },
  {
   "cell_type": "code",
   "execution_count": 5,
   "id": "c4cfcd67-2b63-497a-8768-3ed76d865ade",
   "metadata": {},
   "outputs": [
    {
     "data": {
      "text/html": [
       "<div>\n",
       "<style scoped>\n",
       "    .dataframe tbody tr th:only-of-type {\n",
       "        vertical-align: middle;\n",
       "    }\n",
       "\n",
       "    .dataframe tbody tr th {\n",
       "        vertical-align: top;\n",
       "    }\n",
       "\n",
       "    .dataframe thead th {\n",
       "        text-align: right;\n",
       "    }\n",
       "</style>\n",
       "<table border=\"1\" class=\"dataframe\">\n",
       "  <thead>\n",
       "    <tr style=\"text-align: right;\">\n",
       "      <th></th>\n",
       "      <th>osm_id</th>\n",
       "      <th>geometry</th>\n",
       "    </tr>\n",
       "  </thead>\n",
       "  <tbody>\n",
       "    <tr>\n",
       "      <th>0</th>\n",
       "      <td>99939</td>\n",
       "      <td>POINT (-0.15546 51.52244)</td>\n",
       "    </tr>\n",
       "    <tr>\n",
       "      <th>1</th>\n",
       "      <td>101837</td>\n",
       "      <td>POINT (-0.15489 51.53729)</td>\n",
       "    </tr>\n",
       "    <tr>\n",
       "      <th>2</th>\n",
       "      <td>101843</td>\n",
       "      <td>POINT (-0.16368 51.53494)</td>\n",
       "    </tr>\n",
       "    <tr>\n",
       "      <th>3</th>\n",
       "      <td>101875</td>\n",
       "      <td>POINT (-0.16554 51.52820)</td>\n",
       "    </tr>\n",
       "    <tr>\n",
       "      <th>4</th>\n",
       "      <td>101984</td>\n",
       "      <td>POINT (-0.14513 51.52375)</td>\n",
       "    </tr>\n",
       "  </tbody>\n",
       "</table>\n",
       "</div>"
      ],
      "text/plain": [
       "   osm_id                   geometry\n",
       "0   99939  POINT (-0.15546 51.52244)\n",
       "1  101837  POINT (-0.15489 51.53729)\n",
       "2  101843  POINT (-0.16368 51.53494)\n",
       "3  101875  POINT (-0.16554 51.52820)\n",
       "4  101984  POINT (-0.14513 51.52375)"
      ]
     },
     "execution_count": 5,
     "metadata": {},
     "output_type": "execute_result"
    }
   ],
   "source": [
    "df = gpd.read_file(\"lights.gpkg\")\n",
    "df.head()"
   ]
  },
  {
   "cell_type": "code",
   "execution_count": 11,
   "id": "19e74c42-5c76-4e98-b9ca-cd2d179b0d5b",
   "metadata": {},
   "outputs": [],
   "source": [
    "df[\"gr\"] = [random.randint(1, 3) for k in df.index]"
   ]
  },
  {
   "cell_type": "code",
   "execution_count": 12,
   "id": "e84adc2b-8aa0-47b6-8479-94e48ba37a76",
   "metadata": {},
   "outputs": [
    {
     "data": {
      "text/html": [
       "<div>\n",
       "<style scoped>\n",
       "    .dataframe tbody tr th:only-of-type {\n",
       "        vertical-align: middle;\n",
       "    }\n",
       "\n",
       "    .dataframe tbody tr th {\n",
       "        vertical-align: top;\n",
       "    }\n",
       "\n",
       "    .dataframe thead th {\n",
       "        text-align: right;\n",
       "    }\n",
       "</style>\n",
       "<table border=\"1\" class=\"dataframe\">\n",
       "  <thead>\n",
       "    <tr style=\"text-align: right;\">\n",
       "      <th></th>\n",
       "      <th>osm_id</th>\n",
       "      <th>geometry</th>\n",
       "      <th>gr</th>\n",
       "    </tr>\n",
       "  </thead>\n",
       "  <tbody>\n",
       "    <tr>\n",
       "      <th>0</th>\n",
       "      <td>99939</td>\n",
       "      <td>POINT (-0.15546 51.52244)</td>\n",
       "      <td>1</td>\n",
       "    </tr>\n",
       "    <tr>\n",
       "      <th>1</th>\n",
       "      <td>101837</td>\n",
       "      <td>POINT (-0.15489 51.53729)</td>\n",
       "      <td>1</td>\n",
       "    </tr>\n",
       "    <tr>\n",
       "      <th>2</th>\n",
       "      <td>101843</td>\n",
       "      <td>POINT (-0.16368 51.53494)</td>\n",
       "      <td>2</td>\n",
       "    </tr>\n",
       "    <tr>\n",
       "      <th>3</th>\n",
       "      <td>101875</td>\n",
       "      <td>POINT (-0.16554 51.52820)</td>\n",
       "      <td>2</td>\n",
       "    </tr>\n",
       "    <tr>\n",
       "      <th>4</th>\n",
       "      <td>101984</td>\n",
       "      <td>POINT (-0.14513 51.52375)</td>\n",
       "      <td>2</td>\n",
       "    </tr>\n",
       "  </tbody>\n",
       "</table>\n",
       "</div>"
      ],
      "text/plain": [
       "   osm_id                   geometry  gr\n",
       "0   99939  POINT (-0.15546 51.52244)   1\n",
       "1  101837  POINT (-0.15489 51.53729)   1\n",
       "2  101843  POINT (-0.16368 51.53494)   2\n",
       "3  101875  POINT (-0.16554 51.52820)   2\n",
       "4  101984  POINT (-0.14513 51.52375)   2"
      ]
     },
     "execution_count": 12,
     "metadata": {},
     "output_type": "execute_result"
    }
   ],
   "source": [
    "df.head()"
   ]
  },
  {
   "cell_type": "code",
   "execution_count": 16,
   "id": "8c32ac78-b657-4294-87f8-424cb50f43d8",
   "metadata": {},
   "outputs": [
    {
     "data": {
      "text/plain": [
       "(array([1, 2, 3]), array([22251, 22607, 22445]))"
      ]
     },
     "execution_count": 16,
     "metadata": {},
     "output_type": "execute_result"
    }
   ],
   "source": [
    "np.unique(df.gr, return_counts=True)"
   ]
  },
  {
   "cell_type": "code",
   "execution_count": 17,
   "id": "14070492-13c3-41e6-98c9-ccae01b600be",
   "metadata": {},
   "outputs": [],
   "source": [
    "df.to_file(\"lights-gr.gpkg\")"
   ]
  },
  {
   "cell_type": "code",
   "execution_count": null,
   "id": "77c2105f-ef63-4290-8485-25d0d5dd0381",
   "metadata": {},
   "outputs": [],
   "source": []
  }
 ],
 "metadata": {
  "kernelspec": {
   "display_name": "Python 3 (ipykernel)",
   "language": "python",
   "name": "python3"
  },
  "language_info": {
   "codemirror_mode": {
    "name": "ipython",
    "version": 3
   },
   "file_extension": ".py",
   "mimetype": "text/x-python",
   "name": "python",
   "nbconvert_exporter": "python",
   "pygments_lexer": "ipython3",
   "version": "3.9.13"
  }
 },
 "nbformat": 4,
 "nbformat_minor": 5
}
